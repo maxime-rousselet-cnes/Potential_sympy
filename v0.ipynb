{
 "cells": [
  {
   "cell_type": "code",
   "execution_count": 1,
   "metadata": {},
   "outputs": [
    {
     "name": "stdout",
     "output_type": "stream",
     "text": [
      "Iteration 0 - Convergence criterion: 1.0\n",
      "Iteration 1 - Convergence criterion: 0.9999999971855769\n",
      "Iteration 2 - Convergence criterion: 0.48924033138583223\n",
      "Iteration 3 - Convergence criterion: 7.912048058332812e-09\n"
     ]
    }
   ],
   "source": [
    "from utils import generate_measurements, orbit_restitution\n",
    "\n",
    "cases = [\"case_no_free\"]\n",
    "\n",
    "for case_name in cases:\n",
    "    generate_measurements(case_name=case_name)\n",
    "    orbit_restitution(case_name=case_name)"
   ]
  },
  {
   "cell_type": "code",
   "execution_count": 1,
   "metadata": {},
   "outputs": [
    {
     "ename": "NameError",
     "evalue": "name 'cases' is not defined",
     "output_type": "error",
     "traceback": [
      "\u001b[0;31m---------------------------------------------------------------------------\u001b[0m",
      "\u001b[0;31mNameError\u001b[0m                                 Traceback (most recent call last)",
      "Cell \u001b[0;32mIn[1], line 3\u001b[0m\n\u001b[1;32m      1\u001b[0m \u001b[38;5;28;01mfrom\u001b[39;00m\u001b[38;5;250m \u001b[39m\u001b[38;5;21;01mutils\u001b[39;00m\u001b[38;5;250m \u001b[39m\u001b[38;5;28;01mimport\u001b[39;00m plot_orbit_iterations, plot_errors, plot_correlations\n\u001b[0;32m----> 3\u001b[0m \u001b[38;5;28;01mfor\u001b[39;00m case_name \u001b[38;5;129;01min\u001b[39;00m \u001b[43mcases\u001b[49m:\n\u001b[1;32m      4\u001b[0m     plot_orbit_iterations(case_name\u001b[38;5;241m=\u001b[39mcase_name, figsize\u001b[38;5;241m=\u001b[39m(\u001b[38;5;241m10\u001b[39m, \u001b[38;5;241m6\u001b[39m))\n\u001b[1;32m      5\u001b[0m     plot_errors(case_name\u001b[38;5;241m=\u001b[39mcase_name)\n",
      "\u001b[0;31mNameError\u001b[0m: name 'cases' is not defined"
     ]
    }
   ],
   "source": [
    "from utils import plot_orbit_iterations, plot_errors, plot_correlations\n",
    "\n",
    "cases = [\"case_no_free\"]\n",
    "\n",
    "for case_name in cases:\n",
    "    plot_orbit_iterations(case_name=case_name, figsize=(10, 6))\n",
    "    plot_errors(case_name=case_name)\n",
    "    plot_correlations(case_name=case_name)"
   ]
  }
 ],
 "metadata": {
  "kernelspec": {
   "display_name": "venv_potential",
   "language": "python",
   "name": "python3"
  },
  "language_info": {
   "codemirror_mode": {
    "name": "ipython",
    "version": 3
   },
   "file_extension": ".py",
   "mimetype": "text/x-python",
   "name": "python",
   "nbconvert_exporter": "python",
   "pygments_lexer": "ipython3",
   "version": "3.13.1"
  }
 },
 "nbformat": 4,
 "nbformat_minor": 2
}
