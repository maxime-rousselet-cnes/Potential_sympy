{
 "cells": [
  {
   "cell_type": "code",
   "execution_count": null,
   "metadata": {},
   "outputs": [],
   "source": [
    "from utils import generate_measurements, orbit_restitution\n",
    "\n",
    "cases = [\"case_no_free\"]\n",
    "\n",
    "for case_name in cases:\n",
    "    generate_measurements(case_name=case_name)\n",
    "    orbit_restitution(case_name=case_name)"
   ]
  },
  {
   "cell_type": "code",
   "execution_count": null,
   "metadata": {},
   "outputs": [],
   "source": [
    "from utils import plot_orbit_iterations, plot_errors, plot_correlations\n",
    "\n",
    "cases = [\"case_no_free\"]\n",
    "\n",
    "for case_name in cases:\n",
    "    plot_orbit_iterations(case_name=case_name, figsize=(10, 6))\n",
    "    plot_errors(case_name=case_name)\n",
    "    plot_correlations(case_name=case_name)"
   ]
  }
 ],
 "metadata": {
  "kernelspec": {
   "display_name": "venv_potential",
   "language": "python",
   "name": "python3"
  },
  "language_info": {
   "codemirror_mode": {
    "name": "ipython",
    "version": 3
   },
   "file_extension": ".py",
   "mimetype": "text/x-python",
   "name": "python",
   "nbconvert_exporter": "python",
   "pygments_lexer": "ipython3",
   "version": "3.13.1"
  }
 },
 "nbformat": 4,
 "nbformat_minor": 2
}
