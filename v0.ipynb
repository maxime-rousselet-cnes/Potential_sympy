{
 "cells": [
  {
   "cell_type": "code",
   "execution_count": null,
   "metadata": {},
   "outputs": [
    {
     "name": "stdout",
     "output_type": "stream",
     "text": [
      "Iteration 0 - Convergence criterion: 1.0\n",
      "{'GM': 398600435507000.0, 'R_T': 6378137.0, 'C_x': 1.0, 'surface_mass_ratio': 10.0, 'rho_thermosphere_base': 1e-10, 'thermosphere_ref_altitude': 200000.0, 'thermosphere_scale_factor': 100000.0, 'Earth_mean_TOD': 86164.0, 'm_3': 0.0, 'solar_radiation_pressure': 5e-10, 'reflexivity': 0.3, 'C_1_0': 0.0, 'C_1_1': 0.0, 'C_2_0': -0.01, 'C_2_1': 0.0, 'C_2_2': 0.0, 'S_1_1': 0.0, 'S_2_1': 0.0, 'S_2_2': 0.0, 'X_0': 6721408.865206401, 'Y_0': 0.013938299690512398, 'Z_0': 0.010024952403248888, 'X_dot_0': 0.0032613080387959635, 'Y_dot_0': 5448.04715559542, 'Z_dot_0': 5448.047200976637}\n",
      "['C_x', 'C_2_0', 'X_0', 'Y_0', 'Z_0', 'X_dot_0', 'Y_dot_0', 'Z_dot_0']\n",
      "Iteration 1 - Convergence criterion: 0.9938874700232881\n",
      "{'GM': 398600435507000.0, 'R_T': 6378137.0, 'C_x': np.float64(2.0088057112792868), 'surface_mass_ratio': 10.0, 'rho_thermosphere_base': 1e-10, 'thermosphere_ref_altitude': 200000.0, 'thermosphere_scale_factor': 100000.0, 'Earth_mean_TOD': 86164.0, 'm_3': 0.0, 'solar_radiation_pressure': 5e-10, 'reflexivity': 0.3, 'C_1_0': 0.0, 'C_1_1': 0.0, 'C_2_0': np.float64(-0.010933468621875754), 'C_2_1': 0.0, 'C_2_2': 0.0, 'S_1_1': 0.0, 'S_2_1': 0.0, 'S_2_2': 0.0, 'X_0': np.float64(6719915.714170661), 'Y_0': np.float64(-4963.710087543799), 'Z_0': np.float64(6762.378147472394), 'X_dot_0': np.float64(-6.287354613251055), 'Y_dot_0': np.float64(5447.899497152351), 'Z_dot_0': np.float64(5449.038036036789)}\n",
      "['C_x', 'C_2_0', 'X_0', 'Y_0', 'Z_0', 'X_dot_0', 'Y_dot_0', 'Z_dot_0']\n"
     ]
    }
   ],
   "source": [
    "from utils import generate_measurements, orbit_restitution, plot_orbit_iterations, plot_errors\n",
    "\n",
    "for case_name in [\"case_test\"]:\n",
    "    generate_measurements(case_name=case_name)\n",
    "    orbit_restitution (case_name=case_name)\n",
    "    plot_orbit_iterations(case_name=case_name, figsize=(10, 6))\n",
    "    plot_errors(case_name=case_name)"
   ]
  },
  {
   "cell_type": "markdown",
   "metadata": {},
   "source": [
    "TODO:\n",
    "- Prepare main Notebook with:\n",
    "    - C_x fit at low altitude with light satellite stats.\n",
    "    - J2 fit with LAGEOS stats.\n",
    "    - Higher degrees fit and projection on low uncertainty spectral range.\n",
    "- Try validating with all ADMISSIBLE unknowns, just to see.\n",
    "- Generate all functions descriptions with copilot when free trial restarts."
   ]
  }
 ],
 "metadata": {
  "kernelspec": {
   "display_name": "Python 3",
   "language": "python",
   "name": "python3"
  },
  "language_info": {
   "codemirror_mode": {
    "name": "ipython",
    "version": 3
   },
   "file_extension": ".py",
   "mimetype": "text/x-python",
   "name": "python",
   "nbconvert_exporter": "python",
   "pygments_lexer": "ipython3",
   "version": "3.13.1"
  }
 },
 "nbformat": 4,
 "nbformat_minor": 2
}
