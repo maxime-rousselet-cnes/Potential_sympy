{
 "cells": [
  {
   "cell_type": "code",
   "execution_count": null,
   "metadata": {},
   "outputs": [
    {
     "name": "stdout",
     "output_type": "stream",
     "text": [
      "['X_0', 'Y_0', 'Z_0', 'X_dot_0', 'Y_dot_0', 'Z_dot_0']\n",
      "Iteration 0 - Convergence criterion: 1.0\n"
     ]
    }
   ],
   "source": [
    "from utils import generate_measurements, orbit_restitution, plot_orbit_iterations, plot_errors\n",
    "\n",
    "for case_name in [\"case_no_free\", \"case_J2_only\"]:\n",
    "    generate_measurements(case_name=case_name)\n",
    "    orbit_restitution(case_name=case_name)\n",
    "    plot_orbit_iterations(case_name=case_name, figsize=(20, 6))\n",
    "    plot_errors(case_name=case_name)"
   ]
  },
  {
   "cell_type": "markdown",
   "metadata": {},
   "source": [
    "TODO:\n",
    "- Initial position as orbital parametrs rather than cartesian.\n",
    "- Include station parameters in the inversion. \n",
    "- Validate with 6, 7, 8 unknowns tries.\n",
    "- Prepare main Notebook with:\n",
    "    - C_x fit at low altitude with light satellite stats.\n",
    "    - J2 fit with LAGEOS stats.\n",
    "    - Higher degrees fit and projection on low uncertainty spectral range.\n",
    "- Try validating with all ADMISSIBLE unknowns, just to see.\n",
    "- Generate all functions descriptions with copilot when free trial restarts."
   ]
  }
 ],
 "metadata": {
  "kernelspec": {
   "display_name": "potenial",
   "language": "python",
   "name": "python3"
  },
  "language_info": {
   "codemirror_mode": {
    "name": "ipython",
    "version": 3
   },
   "file_extension": ".py",
   "mimetype": "text/x-python",
   "name": "python",
   "nbconvert_exporter": "python",
   "pygments_lexer": "ipython3",
   "version": "3.13.1"
  }
 },
 "nbformat": 4,
 "nbformat_minor": 2
}
